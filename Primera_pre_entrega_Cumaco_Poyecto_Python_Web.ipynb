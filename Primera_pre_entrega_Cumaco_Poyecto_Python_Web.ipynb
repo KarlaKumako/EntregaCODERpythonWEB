{
  "nbformat": 4,
  "nbformat_minor": 0,
  "metadata": {
    "colab": {
      "provenance": []
    },
    "kernelspec": {
      "name": "python3",
      "display_name": "Python 3"
    },
    "language_info": {
      "name": "python"
    }
  },
  "cells": [
    {
      "cell_type": "markdown",
      "source": [
        "**Generamos una lista vacia, esto con la intención de trasladarlo a un dataset y poder organizar la información recepcionada**\n"
      ],
      "metadata": {
        "id": "n56Qn4BWC_sS"
      }
    },
    {
      "cell_type": "code",
      "execution_count": null,
      "metadata": {
        "id": "sJxXzuDvyjVY"
      },
      "outputs": [],
      "source": [
        "registros_nuevos = []"
      ]
    },
    {
      "cell_type": "markdown",
      "source": [
        "**Función Registro:**\n",
        "Generamos la primera función para permitirle al usuario generar su registro, dentro del código solicitamos 3 datos:\n",
        "- Nombre completo\n",
        "- Usuario\n",
        "- Contraseña\n",
        "\n",
        "La intención es que el código solicite el nombre completo, difiera entre el nombre y el Apellido, de esta forma le permitira generar un saludo personalizado, ya cumpliendo con esta tarea pasara a solicitar usuario y contraseña para generar el registro.\n",
        "\n",
        "Dentro del nombre completo sumamos un \"while\" esto con el fin de parametrizar el nombre, solicitando que se ingrese nombre y apellido, ademas de que los caracteres ingresados sean letras y no números, en este caso se utiliza la ayuda de la función \"isalpha()\""
      ],
      "metadata": {
        "id": "jhtEAxeBClsj"
      }
    },
    {
      "cell_type": "markdown",
      "source": [
        "Al invocar a la función registro procede a generar la solicitud de los datos necesarios para el registro."
      ],
      "metadata": {
        "id": "Gnp85ZOkPrNX"
      }
    },
    {
      "cell_type": "code",
      "source": [
        "def Registro():\n",
        "\n",
        "#Creación de un while de esta forma parametrizamos la información que ingresa el usuario:\n",
        "    while True:\n",
        "        nombre_completo = input(\"Ingresa tu nombre completo (Nombre y Apellido): \")\n",
        "        #Debemos dividir en dos el nombre completo ingresado, de esta forma podemos identificar que poseea dos palabras como se solicita.\n",
        "        palabras = nombre_completo.split()\n",
        "        #Al generar la partición de las dos palabras, le pedimos a \"isalpla\" que reconozca si los caracteres son letras.\n",
        "        if len(palabras) >= 2 and all(palabra.isalpha() for palabra in palabras):\n",
        "        #Se pasara a separar el nombre como primera palabra, esto para generar un saludo personalizado,\n",
        "            primer_nombre = palabras[0]\n",
        "            print(f\"Hola, {primer_nombre}! ¡Bienvenido/a a nuestra página!\")\n",
        "            break\n",
        "        #En caso de que alguno de los parámetros no se cumpla solicitara una nueva oportunidad para ingresar el nombre.\n",
        "        else:\n",
        "            print(\"Por favor, ingresa un nombre completo válido que contenga un nombre y un apellido, ademas de solo letras. Inténtalo de nuevo.\")\n",
        "\n",
        "    #Procedemos a solicitar el ingreso del usuario de logueo\n",
        "    usuario = input(f\"Muy Bien, para iniciar {primer_nombre}, ingresa un usuario: \")\n",
        "\n",
        "    #Posterior pasamos a solicitar la contraseña, en este punto generamos un len para que sea de 6 digitos mínimo.\n",
        "    while True:\n",
        "        contraseña = input(f\"Por ultimo {primer_nombre}, ingresa una contraseña, recuerda no debe ser menor de 6 dígitos: \")\n",
        "        if len(contraseña) >= 6:\n",
        "            print(\"Excelente, ¡Bienvenido/a a nuestra pagina!\")\n",
        "            break\n",
        "   #Si la contraseña no cumple con los parámetros encontes solicitamos que lo intente de nuevo.\n",
        "        else:\n",
        "            print(\"La contraseña debe tener al menos 6 caracteres. Por favor, inténtalo de nuevo.\")\n",
        "\n",
        "    #Por ultimo solicitamos que la información sea sumada a nuestro dataset inicial.\n",
        "    registros_nuevos.append({\n",
        "        'nombre_completo': nombre_completo,\n",
        "        'usuario': usuario,\n",
        "        'contraseña': contraseña\n",
        "    })"
      ],
      "metadata": {
        "id": "v7OZJUR0uNu8"
      },
      "execution_count": null,
      "outputs": []
    },
    {
      "cell_type": "code",
      "source": [
        "Registro()"
      ],
      "metadata": {
        "colab": {
          "base_uri": "https://localhost:8080/"
        },
        "id": "eRzMAH_qyqUA",
        "outputId": "cc71bb06-b2c7-4edf-caeb-c0d8ce4d34c7"
      },
      "execution_count": null,
      "outputs": [
        {
          "output_type": "stream",
          "name": "stdout",
          "text": [
            "Ingresa tu nombre completo (Nombre y Apellido): Camilo\n",
            "Por favor, ingresa un nombre completo válido que contenga un nombre y un apellido, ademas de solo letras. Inténtalo de nuevo.\n",
            "Ingresa tu nombre completo (Nombre y Apellido): Camilo Lopez\n",
            "Hola, Camilo! ¡Bienvenido/a a nuestra página!\n",
            "Muy Bien, para iniciar Camilo, ingresa un usuario: camilito_1254\n",
            "Por ultimo Camilo, ingresa una contraseña, recuerda no debe ser menor de 6 dígitos: sd\n",
            "La contraseña debe tener al menos 6 caracteres. Por favor, inténtalo de nuevo.\n",
            "Por ultimo Camilo, ingresa una contraseña, recuerda no debe ser menor de 6 dígitos: asf566\n",
            "Excelente, ¡Bienvenido/a a nuestra pagina!\n"
          ]
        }
      ]
    },
    {
      "cell_type": "markdown",
      "source": [
        "**Función verificación de registros:**\n",
        "En esta función decidi emplear herramientas que poseo en conocimiento para mejorar este aspecto de registro, importando Pandas me permite generar un dataset con los datos que se estan ingresando directamente por el usuario, a futuro esto nos permitira generar una extracción mas limpia de la información, ya clasificada."
      ],
      "metadata": {
        "id": "Q8TO2kH3P8ie"
      }
    },
    {
      "cell_type": "code",
      "source": [
        "import pandas as pd\n",
        "\n",
        "def Verificacion_de_registros():\n",
        "\n",
        "    #Definimos una variable para la reación de nuestro dataframe a traves de la lista \"registros_nuevos\"\n",
        "    Registros = pd.DataFrame(registros_nuevos)\n",
        "\n",
        "    # Usamos un print para brindarle contexto a la visualización\n",
        "    print(Registros)"
      ],
      "metadata": {
        "id": "g9vvVZ2K11IV"
      },
      "execution_count": null,
      "outputs": []
    },
    {
      "cell_type": "markdown",
      "source": [
        "Invocamos a la definición para visualizar el dataset con la información ingresada."
      ],
      "metadata": {
        "id": "Av9wS4W1RFon"
      }
    },
    {
      "cell_type": "code",
      "source": [
        "Verificacion_de_registros()"
      ],
      "metadata": {
        "colab": {
          "base_uri": "https://localhost:8080/"
        },
        "id": "3qMMXKOERBpl",
        "outputId": "9c6e179b-fea1-4625-8ac5-1f3723d18136"
      },
      "execution_count": null,
      "outputs": [
        {
          "output_type": "stream",
          "name": "stdout",
          "text": [
            "Dataset de registros:\n",
            "  nombre_completo             usuario contraseña\n",
            "0    Karla Cumaco  Karlitaestrellita1     wer123\n",
            "1  Ana Montenegro       AnitaMasmi123    Glup523\n",
            "2   Laura Montero         LulaMonte13    1235sdf\n",
            "3    Camilo Lopez       camilito_1254     asf566\n"
          ]
        }
      ]
    },
    {
      "cell_type": "markdown",
      "source": [
        "**Función restablecer_contraseña:**\n",
        "\n",
        "Esta función sera invocada cuando se genere una situación de recupero de contraseña en el proceso de la función Log_In, vamos a solicitarle el nombre completo al usuario como parámetro de seguridad para poder avanzar con el cambio de contraseña."
      ],
      "metadata": {
        "id": "XTbHoU5K2_2G"
      }
    },
    {
      "cell_type": "code",
      "source": [
        "def restablecer_contraseña(usuario):\n",
        "\n",
        "  #Generamos un input para solicitar el ingreso del nombre completo, al ser el unico tercer dato que poseemos lo usaremos como parámetro.\n",
        "    nombre_completo = input(\"Para restablecer tu contraseña, introduce tu nombre completo registrado: \")\n",
        "    for registro in registros_nuevos:\n",
        "      #Se realiza una comparación tanto sobre usuario como sobre registro, esta parte nos permite invocar la función si ademas de no saber el usuario el usuario no recuerda la contraseña.\n",
        "        if registro['usuario'] == usuario or registro['nombre_completo'] == nombre_completo:\n",
        "            nueva_contraseña = input(\"Introduce tu nueva contraseña (mínimo 6 caracteres): \")\n",
        "            #Mantenemos los parámetros en cuanto al ingreso de la contraseña la misma debe tener 6 o mas carácteres.\n",
        "            while len(nueva_contraseña) < 6:\n",
        "                print(\"La contraseña debe tener al menos 6 caracteres. Inténtalo de nuevo.\")\n",
        "                nueva_contraseña = input(\"Introduce tu nueva contraseña: \")\n",
        "            #Si se cumple con el parámetro de ingreso, se procedera a remplazar la anterior con la nueva contraseña.\n",
        "            registro['contraseña'] = nueva_contraseña\n",
        "            print(\"Tu contraseña ha sido actualizada exitosamente.\")\n",
        "            return True\n",
        "    print(\"Los datos proporcionados no coinciden con nuestros registros.\")\n",
        "    return False  # Si el nombre completo ingresado no es correcto informara la imposibilidad de seguir.\n",
        "\n"
      ],
      "metadata": {
        "id": "km35Yqku46WC"
      },
      "execution_count": null,
      "outputs": []
    },
    {
      "cell_type": "markdown",
      "source": [
        "**Función restablecer_usuario:**\n",
        "\n",
        "En esta función lo que queremos lograr es que en caso de que el usuario olvida de id, recuerde su nombre completo y contraseña, podra imgresar a la pagina, sin embargo de forma automática debera generar un nuevo usuario de ingreso."
      ],
      "metadata": {
        "id": "EF0q9zTE4Pal"
      }
    },
    {
      "cell_type": "code",
      "source": [
        "def restablecer_usuario(nombre_completo):\n",
        "\n",
        "  #Le solicitamos al usuario ingresar su nuevo usuario\n",
        "    nuevo_usuario = input(\"Introduce tu nuevo usuario: \")\n",
        "\n",
        "    # Con la creación de este for podremos:\n",
        "    for registro in registros_nuevos:\n",
        "      #Generar una comparación con el nombre completo ingresado,\n",
        "        if registro['nombre_completo'] == nombre_completo:\n",
        "          #Para posteriormente generar el remplazo del usuario anterior por el nuevo.\n",
        "            registro['usuario'] = nuevo_usuario\n",
        "            print(\"Usuario restablecido con éxito.\")\n",
        "            return True\n",
        "\n",
        "    print(\"Lo sentimos, no pudimos encontrar tu nombre completo en nuestros registros.\")\n",
        "    return False"
      ],
      "metadata": {
        "id": "xxHazyZNfbLF"
      },
      "execution_count": null,
      "outputs": []
    },
    {
      "cell_type": "markdown",
      "source": [
        "**Función Log_In:**\n",
        "\n",
        "Para esta función quise lograr que no solo nos limitaramos a solicitar el usuario y contraseña, sino que añadimos algunas funciones utiles básicas:\n",
        "\n",
        "-Permitimos un intento máximo de 3 intentos para el ingreso a la plataforma.\n",
        "\n",
        "-En caso de no lograr el ingreso procedemos a ofrecer el restablecimiento de la contraseña solicitando el unico dato exento del login, el nombre completo tal cual fue ingresado en el registro.\n",
        "\n",
        "- Si no se ingresa el usuario de forma correcta, se brindaran 3 oportunidades de ingreso antes de solicitar como parámetro de seguridad el ingreso del nombre completo, esto a su vez le permitira al usuario pasar a usar su nombre completo como puente de ingreso a la contraseña, si recuerda la contraseña podra ingresar, si no la recuerda tendra la oportunidad de generar el recupero de la misma invocando a la definición \"restablecer contraseña\"."
      ],
      "metadata": {
        "id": "7JKo1g9sF0Q_"
      }
    },
    {
      "cell_type": "code",
      "source": [
        "def Log_In():\n",
        "\n",
        "    #Le brindamos 3 intentos para ingresar el usuario registrado con anterioridad.\n",
        "    intentos_usuario = 3\n",
        "    while intentos_usuario > 0:\n",
        "        usuario = input(\"Introduce tu usuario: \")\n",
        "        for registro in registros_nuevos:\n",
        "            if registro['usuario'] == usuario:\n",
        "                break\n",
        "        else:\n",
        "            intentos_usuario -= 1\n",
        "            print(f\"Usuario incorrecto. Te quedan {intentos_usuario} intentos.\")\n",
        "            continue  # Continuar pidiendo usuario si no se encontró\n",
        "\n",
        "        # Si dentro de los 3 intentos es ingresado el usuario con exito, pasaremos a solicitar la contraseña con los mismos parámetros, 3 intentos.\n",
        "        intentos_contraseña = 3\n",
        "        while intentos_contraseña > 0:\n",
        "            contraseña = input(\"Introduce tu contraseña: \")\n",
        "            if registro['contraseña'] == contraseña:\n",
        "                print(\"Ingreso exitoso.\")\n",
        "                return True\n",
        "            else:\n",
        "                intentos_contraseña -= 1\n",
        "                print(f\"Contraseña incorrecta. Te quedan {intentos_contraseña} intentos.\")\n",
        "\n",
        "        # Si en este caso no se recuerda la contraaela pasaremos a ofrecer la posibilidad de recuperarla invocando a la función \"restablecer_contraseña(usuario)\"\n",
        "        print(\"Has excedido el número de intentos permitidos.\")\n",
        "        respuesta = input(\"¿Quieres restablecer tu contraseña? (si/no): \")\n",
        "        if respuesta.lower() == \"si\":\n",
        "            return restablecer_contraseña(usuario)\n",
        "        #Si se opta por no recuperarla generaremos un mensaje indicando que podra realizarlo en otra oportunidad\n",
        "        else:\n",
        "            print(\"Te extrañamos, recuerda que siempre puedes recuperar tu contraseña o si recuerdas la que tenías, aquí estaremos esperándote.\")\n",
        "            return False  # Retorna False si el usuario no quiere restablecer la contraseña\n",
        "\n",
        "    # Retomando: Si desde el inicio no se logra el ingreso del usuario dentro de los 3 intentos,\n",
        "    print(\"Has excedido el número de intentos para ingresar el usuario.\")\n",
        "    print(\"Por favor, ingresa tu nombre completo para continuar.\")\n",
        "    #Solicitaremos nuestro parámetro de seguridad para usarlo como puente a la contraseña,\n",
        "    nombre_completo = input(\"Nombre completo: \")\n",
        "    for registro in registros_nuevos:\n",
        "        if registro['nombre_completo'] == nombre_completo:\n",
        "            # Si se encuentra el nombre completo, permitimos ingresar la contraseña\n",
        "            intentos_contraseña = 3\n",
        "            while intentos_contraseña > 0:\n",
        "                contraseña = input(\"Introduce tu contraseña: \")\n",
        "                #Si la contraseña es correcta podremos ingresar y de forma automatica solicitaremos un nuevo usuario para remplazar el anterior\n",
        "                if registro['contraseña'] == contraseña:\n",
        "                    print(\"Ingreso exitoso.\")\n",
        "                    #Invocamos a la función correspondiente para generar el cambio de usuario\n",
        "                    return restablecer_usuario(nombre_completo)\n",
        "                else:\n",
        "                    intentos_contraseña -= 1\n",
        "                    print(f\"Contraseña incorrecta. Te quedan {intentos_contraseña} intentos.\")\n",
        "\n",
        "            # Si se acaban los intentos de contraseña al ingresar el nombre completo, ofrecemos recuperarla\n",
        "            print(\"Has excedido el número de intentos permitidos.\")\n",
        "            respuesta = input(\"¿Quieres recuperar tu contraseña? (si/no): \")\n",
        "            if respuesta.lower() == \"si\":\n",
        "                return restablecer_contraseña(usuario)  #Invocamos a la función correspondiente.\n",
        "            else:\n",
        "                print(\"Te extrañamos, recuerda que siempre puedes recuperar tu contraseña o si recuerdas la que tenías, aquí estaremos esperándote.\")\n",
        "                return False  # Retorna False si el usuario no quiere recuperar la contraseña\n",
        "    else:\n",
        "      print(\"No tenemos datos registrados con lo ingresado, por favor verifica la información, de otra forma te invitamos a registrarte\")\n",
        "      return Registro()"
      ],
      "metadata": {
        "id": "dgjDzBHtqhRY"
      },
      "execution_count": null,
      "outputs": []
    },
    {
      "cell_type": "markdown",
      "source": [
        "**Porcedemos a ejemplificar algunos de los casos de uso:**"
      ],
      "metadata": {
        "id": "7_k7eU429GcZ"
      }
    },
    {
      "cell_type": "markdown",
      "source": [
        "**Usuario no recuerda o no posee registro**\n",
        "\n",
        "En este caso podemos identificar que el usuario no recuerda información alguna sobre su registro."
      ],
      "metadata": {
        "id": "LhsRUgfz9MVi"
      }
    },
    {
      "cell_type": "code",
      "source": [
        "Log_In()"
      ],
      "metadata": {
        "id": "dsWklK8OHX0U",
        "colab": {
          "base_uri": "https://localhost:8080/"
        },
        "outputId": "dbad1ccd-0c6c-4b3f-e615-31e16fc9221e"
      },
      "execution_count": null,
      "outputs": [
        {
          "output_type": "stream",
          "name": "stdout",
          "text": [
            "Introduce tu usuario: sdf\n",
            "Usuario incorrecto. Te quedan 2 intentos.\n",
            "Introduce tu usuario: \n",
            "Usuario incorrecto. Te quedan 1 intentos.\n",
            "Introduce tu usuario: adfg\n",
            "Usuario incorrecto. Te quedan 0 intentos.\n",
            "Has excedido el número de intentos para ingresar el usuario.\n",
            "Por favor, ingresa tu nombre completo para continuar.\n",
            "Nombre completo: juAN MS\n",
            "No tenemos datos registrados con lo ingresado, por favor verifica la información, de otra forma te invitamos a registrarte\n",
            "Ingresa tu nombre completo (Nombre y Apellido): Juan Lopez\n",
            "Hola, Juan! ¡Bienvenido/a a nuestra página!\n",
            "Muy Bien, para iniciar Juan, ingresa un usuario: JuancitoCapocapito123\n",
            "Por ultimo Juan, ingresa una contraseña, recuerda no debe ser menor de 6 dígitos: nhdfnewd4266\n",
            "Excelente, ¡Bienvenido/a a nuestra pagina!\n"
          ]
        }
      ]
    },
    {
      "cell_type": "markdown",
      "source": [
        "Al invocar a la función sobre el dataset nos muestra el nuevo usuario creado."
      ],
      "metadata": {
        "id": "L-X2VIT69u5m"
      }
    },
    {
      "cell_type": "code",
      "source": [
        "Verificacion_de_registros()"
      ],
      "metadata": {
        "colab": {
          "base_uri": "https://localhost:8080/"
        },
        "id": "qLBT0JVU9ozI",
        "outputId": "4d95d83f-2d6b-452c-8cbe-29b4722e0cd2"
      },
      "execution_count": null,
      "outputs": [
        {
          "output_type": "stream",
          "name": "stdout",
          "text": [
            "Dataset de registros:\n",
            "  nombre_completo                usuario    contraseña\n",
            "0    Karla Cumaco       Cosmefulanita125        wer123\n",
            "1  Ana Montenegro          AnitaMasmi123      Anita567\n",
            "2   Laura Montero            LulaMonte13       1235sdf\n",
            "3    Camilo Lopez          camilito_1254        asf566\n",
            "4      Juan Lopez  JuancitoCapocapito123  nhdfnewd4266\n"
          ]
        }
      ]
    },
    {
      "cell_type": "markdown",
      "source": [
        "**No recuerda usuario, ni contraseña pero si nombre completo**\n",
        "\n",
        "En este caso Ana no recuerda su nombre de usuario pero usando el parametro del nombre completo podemos ofrecer el ingreso, al no recordar su contraseña le ofrecemos la posibilidad de recuperarla."
      ],
      "metadata": {
        "id": "Vx5YnhEB-RgZ"
      }
    },
    {
      "cell_type": "code",
      "source": [
        "Log_In()"
      ],
      "metadata": {
        "colab": {
          "base_uri": "https://localhost:8080/"
        },
        "id": "kz-Q7Z6Z8LEo",
        "outputId": "54263df8-5260-4a8c-a09c-826e138cd65b"
      },
      "execution_count": null,
      "outputs": [
        {
          "output_type": "stream",
          "name": "stdout",
          "text": [
            "Introduce tu usuario: sasd\n",
            "Usuario incorrecto. Te quedan 2 intentos.\n",
            "Introduce tu usuario: df\n",
            "Usuario incorrecto. Te quedan 1 intentos.\n",
            "Introduce tu usuario: df\n",
            "Usuario incorrecto. Te quedan 0 intentos.\n",
            "Has excedido el número de intentos para ingresar el usuario.\n",
            "Por favor, ingresa tu nombre completo para continuar.\n",
            "Nombre completo: Ana Montenegro\n",
            "Introduce tu contraseña: asd\n",
            "Contraseña incorrecta. Te quedan 2 intentos.\n",
            "Introduce tu contraseña: sdfghjj52\n",
            "Contraseña incorrecta. Te quedan 1 intentos.\n",
            "Introduce tu contraseña: 345523\n",
            "Contraseña incorrecta. Te quedan 0 intentos.\n",
            "Has excedido el número de intentos permitidos.\n",
            "¿Quieres recuperar tu contraseña? (si/no): si\n",
            "Para restablecer tu contraseña, introduce tu nombre completo registrado: Ana Montenegro\n",
            "Introduce tu nueva contraseña (mínimo 6 caracteres): sd\n",
            "La contraseña debe tener al menos 6 caracteres. Inténtalo de nuevo.\n",
            "Introduce tu nueva contraseña: 41\n",
            "La contraseña debe tener al menos 6 caracteres. Inténtalo de nuevo.\n",
            "Introduce tu nueva contraseña: Anillapilla1248?\n",
            "Tu contraseña ha sido actualizada exitosamente.\n"
          ]
        },
        {
          "output_type": "execute_result",
          "data": {
            "text/plain": [
              "True"
            ]
          },
          "metadata": {},
          "execution_count": 281
        }
      ]
    },
    {
      "cell_type": "markdown",
      "source": [
        "Invocamos al dataset y podemos ver la información modificada."
      ],
      "metadata": {
        "id": "2dVdwZ_N-hmY"
      }
    },
    {
      "cell_type": "code",
      "source": [
        "Verificacion_de_registros()"
      ],
      "metadata": {
        "colab": {
          "base_uri": "https://localhost:8080/"
        },
        "id": "NpHYPra68amI",
        "outputId": "c88a7801-33c3-4e8f-b1ec-898ccd108f15"
      },
      "execution_count": null,
      "outputs": [
        {
          "output_type": "stream",
          "name": "stdout",
          "text": [
            "Dataset de registros:\n",
            "  nombre_completo                usuario        contraseña\n",
            "0    Karla Cumaco       Cosmefulanita125            wer123\n",
            "1  Ana Montenegro          AnitaMasmi123  Anillapilla1248?\n",
            "2   Laura Montero            LulaMonte13           1235sdf\n",
            "3    Camilo Lopez          camilito_1254            asf566\n",
            "4      Juan Lopez  JuancitoCapocapito123      nhdfnewd4266\n"
          ]
        }
      ]
    },
    {
      "cell_type": "markdown",
      "source": [
        "**Usuario no quiere restablecer su contraseña olvidada**\n",
        "\n",
        "Le dejamos al usuario tener la posibilidad de cambiar su contraseña invocando a la función correspondiente pero, no acepta, le brindamos un mensaje positivo para que vuelva."
      ],
      "metadata": {
        "id": "PgXVP2X2-pra"
      }
    },
    {
      "cell_type": "code",
      "source": [
        "Log_In()"
      ],
      "metadata": {
        "colab": {
          "base_uri": "https://localhost:8080/"
        },
        "id": "McGERhWL8dZL",
        "outputId": "4c37e2be-1a36-4da5-ae54-07d470393613"
      },
      "execution_count": null,
      "outputs": [
        {
          "output_type": "stream",
          "name": "stdout",
          "text": [
            "Introduce tu usuario: camilito_1254\n",
            "Introduce tu contraseña: kdibwoa\n",
            "Contraseña incorrecta. Te quedan 2 intentos.\n",
            "Introduce tu contraseña: ncinwecv\n",
            "Contraseña incorrecta. Te quedan 1 intentos.\n",
            "Introduce tu contraseña: 586s2df\n",
            "Contraseña incorrecta. Te quedan 0 intentos.\n",
            "Has excedido el número de intentos permitidos.\n",
            "¿Quieres restablecer tu contraseña? (si/no): no\n",
            "Te extrañamos, recuerda que siempre puedes recuperar tu contraseña o si recuerdas la que tenías, aquí estaremos esperándote.\n"
          ]
        },
        {
          "output_type": "execute_result",
          "data": {
            "text/plain": [
              "False"
            ]
          },
          "metadata": {},
          "execution_count": 283
        }
      ]
    },
    {
      "cell_type": "markdown",
      "source": [
        "**Ingreso correcto**\n",
        "En este caso la usuaria reconoce su usuario y contraseña."
      ],
      "metadata": {
        "id": "GoFhTZWS_GLZ"
      }
    },
    {
      "cell_type": "code",
      "source": [
        "Log_In()"
      ],
      "metadata": {
        "colab": {
          "base_uri": "https://localhost:8080/"
        },
        "id": "mVSRw3x18mT_",
        "outputId": "59488db0-1cde-4bf0-ae4a-5189d78a5f99"
      },
      "execution_count": null,
      "outputs": [
        {
          "output_type": "stream",
          "name": "stdout",
          "text": [
            "Introduce tu usuario: LulaMonte13\n",
            "Introduce tu contraseña: 1235sdf\n",
            "Ingreso exitoso.\n"
          ]
        },
        {
          "output_type": "execute_result",
          "data": {
            "text/plain": [
              "True"
            ]
          },
          "metadata": {},
          "execution_count": 275
        }
      ]
    },
    {
      "cell_type": "markdown",
      "source": [
        "**Recuerda nombre completo ingresado y contraseña, pero no usuario**\n",
        "\n",
        "Usamos el parámetro nuevamente sobre el nombre completo para permitir el ingreso, en este caso al saber la contraseña de forma automática estaremos solicitando el registro de un n uevo usuario para proximos ingresos."
      ],
      "metadata": {
        "id": "k7NIeaDc_OAh"
      }
    },
    {
      "cell_type": "code",
      "source": [
        "Log_In()"
      ],
      "metadata": {
        "colab": {
          "base_uri": "https://localhost:8080/"
        },
        "id": "c36nAGQu8seQ",
        "outputId": "a609c273-2a9d-49fd-b869-285a7ae6efbd"
      },
      "execution_count": null,
      "outputs": [
        {
          "output_type": "stream",
          "name": "stdout",
          "text": [
            "Introduce tu usuario: ad\n",
            "Usuario incorrecto. Te quedan 2 intentos.\n",
            "Introduce tu usuario: ass\n",
            "Usuario incorrecto. Te quedan 1 intentos.\n",
            "Introduce tu usuario: ads\n",
            "Usuario incorrecto. Te quedan 0 intentos.\n",
            "Has excedido el número de intentos para ingresar el usuario.\n",
            "Por favor, ingresa tu nombre completo para continuar.\n",
            "Nombre completo: Karla Cumaco\n",
            "Introduce tu contraseña: wer123\n",
            "Ingreso exitoso.\n",
            "Introduce tu nuevo usuario: Cosmefulanita125\n",
            "Usuario restablecido con éxito.\n"
          ]
        },
        {
          "output_type": "execute_result",
          "data": {
            "text/plain": [
              "True"
            ]
          },
          "metadata": {},
          "execution_count": 276
        }
      ]
    },
    {
      "cell_type": "markdown",
      "source": [
        "**Invocamos al dataset para verificar la información***"
      ],
      "metadata": {
        "id": "REZWhyMy_dF3"
      }
    },
    {
      "cell_type": "code",
      "source": [
        "Verificacion_de_registros()"
      ],
      "metadata": {
        "colab": {
          "base_uri": "https://localhost:8080/"
        },
        "id": "E8ip0DMy8_7M",
        "outputId": "0898c44f-1af2-4ea2-b084-c5d7751d826d"
      },
      "execution_count": null,
      "outputs": [
        {
          "output_type": "stream",
          "name": "stdout",
          "text": [
            "Dataset de registros:\n",
            "  nombre_completo                usuario        contraseña\n",
            "0    Karla Cumaco       Cosmefulanita125            wer123\n",
            "1  Ana Montenegro          AnitaMasmi123  Anillapilla1248?\n",
            "2   Laura Montero            LulaMonte13           1235sdf\n",
            "3    Camilo Lopez          camilito_1254            asf566\n",
            "4      Juan Lopez  JuancitoCapocapito123      nhdfnewd4266\n"
          ]
        }
      ]
    }
  ]
}